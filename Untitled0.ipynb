{
  "nbformat": 4,
  "nbformat_minor": 0,
  "metadata": {
    "colab": {
      "provenance": [],
      "gpuType": "T4",
      "authorship_tag": "ABX9TyMrhbLijpAkWjbq4tvBnU7m",
      "include_colab_link": true
    },
    "kernelspec": {
      "name": "python3",
      "display_name": "Python 3"
    },
    "language_info": {
      "name": "python"
    },
    "accelerator": "GPU"
  },
  "cells": [
    {
      "cell_type": "markdown",
      "metadata": {
        "id": "view-in-github",
        "colab_type": "text"
      },
      "source": [
        "<a href=\"https://colab.research.google.com/github/ashrafulwork/Computer_Vision_resources/blob/main/Untitled0.ipynb\" target=\"_parent\"><img src=\"https://colab.research.google.com/assets/colab-badge.svg\" alt=\"Open In Colab\"/></a>"
      ]
    },
    {
      "cell_type": "code",
      "execution_count": 1,
      "metadata": {
        "colab": {
          "base_uri": "https://localhost:8080/"
        },
        "id": "ZPDU0DevPhKb",
        "outputId": "b31c494e-5071-4a27-b7ad-12757a0c2e2f"
      },
      "outputs": [
        {
          "output_type": "stream",
          "name": "stdout",
          "text": [
            "Sat Jan 18 11:56:41 2025       \n",
            "+---------------------------------------------------------------------------------------+\n",
            "| NVIDIA-SMI 535.104.05             Driver Version: 535.104.05   CUDA Version: 12.2     |\n",
            "|-----------------------------------------+----------------------+----------------------+\n",
            "| GPU  Name                 Persistence-M | Bus-Id        Disp.A | Volatile Uncorr. ECC |\n",
            "| Fan  Temp   Perf          Pwr:Usage/Cap |         Memory-Usage | GPU-Util  Compute M. |\n",
            "|                                         |                      |               MIG M. |\n",
            "|=========================================+======================+======================|\n",
            "|   0  Tesla T4                       Off | 00000000:00:04.0 Off |                    0 |\n",
            "| N/A   38C    P8              10W /  70W |      0MiB / 15360MiB |      0%      Default |\n",
            "|                                         |                      |                  N/A |\n",
            "+-----------------------------------------+----------------------+----------------------+\n",
            "                                                                                         \n",
            "+---------------------------------------------------------------------------------------+\n",
            "| Processes:                                                                            |\n",
            "|  GPU   GI   CI        PID   Type   Process name                            GPU Memory |\n",
            "|        ID   ID                                                             Usage      |\n",
            "|=======================================================================================|\n",
            "|  No running processes found                                                           |\n",
            "+---------------------------------------------------------------------------------------+\n"
          ]
        }
      ],
      "source": [
        "!nvidia-smi"
      ]
    },
    {
      "cell_type": "code",
      "source": [
        "import torch\n",
        "device = \"cuda\" if torch.cuda.is_available() else \"cpu\"\n",
        "device\n",
        ""
      ],
      "metadata": {
        "colab": {
          "base_uri": "https://localhost:8080/",
          "height": 35
        },
        "id": "IAb4sAUZPkmK",
        "outputId": "3610a53d-5871-4b4c-c1e3-d0d7c03dd4fa"
      },
      "execution_count": 2,
      "outputs": [
        {
          "output_type": "execute_result",
          "data": {
            "text/plain": [
              "'cuda'"
            ],
            "application/vnd.google.colaboratory.intrinsic+json": {
              "type": "string"
            }
          },
          "metadata": {},
          "execution_count": 2
        }
      ]
    },
    {
      "cell_type": "code",
      "source": [
        "# Install PyTorch and TorchVision\n",
        "!pip install torch==2.5.1 torchvision==0.20.1\n",
        "\n",
        "# Clone the SAM 2 repository\n",
        "!git clone https://github.com/yangchris11/samurai.git\n",
        "!git clone https://github.com/facebookresearch/sam2.git\n",
        "\n",
        "%cd sam2\n",
        "\n",
        "# Install SAM 2\n",
        "!pip install -e .\n",
        "\n",
        "# Install additional dependencies for Jupyter and Matplotlib if needed\n",
        "!pip install -e \".[notebooks]\"\n"
      ],
      "metadata": {
        "colab": {
          "base_uri": "https://localhost:8080/"
        },
        "id": "atdyCbyQPmFk",
        "outputId": "9fc27f6b-043e-4db6-887d-f93eafadefb4"
      },
      "execution_count": 3,
      "outputs": [
        {
          "output_type": "stream",
          "name": "stdout",
          "text": [
            "Requirement already satisfied: torch==2.5.1 in /usr/local/lib/python3.11/dist-packages (2.5.1+cu121)\n",
            "Requirement already satisfied: torchvision==0.20.1 in /usr/local/lib/python3.11/dist-packages (0.20.1+cu121)\n",
            "Requirement already satisfied: filelock in /usr/local/lib/python3.11/dist-packages (from torch==2.5.1) (3.16.1)\n",
            "Requirement already satisfied: typing-extensions>=4.8.0 in /usr/local/lib/python3.11/dist-packages (from torch==2.5.1) (4.12.2)\n",
            "Requirement already satisfied: networkx in /usr/local/lib/python3.11/dist-packages (from torch==2.5.1) (3.4.2)\n",
            "Requirement already satisfied: jinja2 in /usr/local/lib/python3.11/dist-packages (from torch==2.5.1) (3.1.5)\n",
            "Requirement already satisfied: fsspec in /usr/local/lib/python3.11/dist-packages (from torch==2.5.1) (2024.10.0)\n",
            "Requirement already satisfied: nvidia-cuda-nvrtc-cu12==12.1.105 in /usr/local/lib/python3.11/dist-packages (from torch==2.5.1) (12.1.105)\n",
            "Requirement already satisfied: nvidia-cuda-runtime-cu12==12.1.105 in /usr/local/lib/python3.11/dist-packages (from torch==2.5.1) (12.1.105)\n",
            "Requirement already satisfied: nvidia-cuda-cupti-cu12==12.1.105 in /usr/local/lib/python3.11/dist-packages (from torch==2.5.1) (12.1.105)\n",
            "Requirement already satisfied: nvidia-cudnn-cu12==9.1.0.70 in /usr/local/lib/python3.11/dist-packages (from torch==2.5.1) (9.1.0.70)\n",
            "Requirement already satisfied: nvidia-cublas-cu12==12.1.3.1 in /usr/local/lib/python3.11/dist-packages (from torch==2.5.1) (12.1.3.1)\n",
            "Requirement already satisfied: nvidia-cufft-cu12==11.0.2.54 in /usr/local/lib/python3.11/dist-packages (from torch==2.5.1) (11.0.2.54)\n",
            "Requirement already satisfied: nvidia-curand-cu12==10.3.2.106 in /usr/local/lib/python3.11/dist-packages (from torch==2.5.1) (10.3.2.106)\n",
            "Requirement already satisfied: nvidia-cusolver-cu12==11.4.5.107 in /usr/local/lib/python3.11/dist-packages (from torch==2.5.1) (11.4.5.107)\n",
            "Requirement already satisfied: nvidia-cusparse-cu12==12.1.0.106 in /usr/local/lib/python3.11/dist-packages (from torch==2.5.1) (12.1.0.106)\n",
            "Requirement already satisfied: nvidia-nccl-cu12==2.21.5 in /usr/local/lib/python3.11/dist-packages (from torch==2.5.1) (2.21.5)\n",
            "Requirement already satisfied: nvidia-nvtx-cu12==12.1.105 in /usr/local/lib/python3.11/dist-packages (from torch==2.5.1) (12.1.105)\n",
            "Requirement already satisfied: triton==3.1.0 in /usr/local/lib/python3.11/dist-packages (from torch==2.5.1) (3.1.0)\n",
            "Requirement already satisfied: sympy==1.13.1 in /usr/local/lib/python3.11/dist-packages (from torch==2.5.1) (1.13.1)\n",
            "Requirement already satisfied: numpy in /usr/local/lib/python3.11/dist-packages (from torchvision==0.20.1) (1.26.4)\n",
            "Requirement already satisfied: pillow!=8.3.*,>=5.3.0 in /usr/local/lib/python3.11/dist-packages (from torchvision==0.20.1) (11.1.0)\n",
            "Requirement already satisfied: nvidia-nvjitlink-cu12 in /usr/local/lib/python3.11/dist-packages (from nvidia-cusolver-cu12==11.4.5.107->torch==2.5.1) (12.6.85)\n",
            "Requirement already satisfied: mpmath<1.4,>=1.1.0 in /usr/local/lib/python3.11/dist-packages (from sympy==1.13.1->torch==2.5.1) (1.3.0)\n",
            "Requirement already satisfied: MarkupSafe>=2.0 in /usr/local/lib/python3.11/dist-packages (from jinja2->torch==2.5.1) (3.0.2)\n",
            "fatal: destination path 'samurai' already exists and is not an empty directory.\n",
            "fatal: destination path 'sam2' already exists and is not an empty directory.\n",
            "/content/sam2\n",
            "Obtaining file:///content/sam2\n",
            "  Installing build dependencies ... \u001b[?25l\u001b[?25hcanceled\n",
            "\u001b[31mERROR: Operation cancelled by user\u001b[0m\u001b[31m\n",
            "\u001b[0mObtaining file:///content/sam2\n",
            "  Installing build dependencies ... \u001b[?25l\u001b[?25hcanceled\n",
            "\u001b[31mERROR: Operation cancelled by user\u001b[0m\u001b[31m\n",
            "\u001b[0m"
          ]
        }
      ]
    },
    {
      "cell_type": "code",
      "source": [
        "!pip install matplotlib==3.7 tikzplotlib jpeg4py opencv-python lmdb pandas scipy loguru"
      ],
      "metadata": {
        "colab": {
          "base_uri": "https://localhost:8080/"
        },
        "id": "EPgaw5opQvLk",
        "outputId": "8bf69d8b-d332-46a3-b081-234098053913"
      },
      "execution_count": 3,
      "outputs": [
        {
          "output_type": "stream",
          "name": "stdout",
          "text": [
            "Requirement already satisfied: matplotlib==3.7 in /usr/local/lib/python3.11/dist-packages (3.7.0)\n",
            "Requirement already satisfied: tikzplotlib in /usr/local/lib/python3.11/dist-packages (0.10.1)\n",
            "Requirement already satisfied: jpeg4py in /usr/local/lib/python3.11/dist-packages (0.1.4)\n",
            "Requirement already satisfied: opencv-python in /usr/local/lib/python3.11/dist-packages (4.10.0.84)\n",
            "Requirement already satisfied: lmdb in /usr/local/lib/python3.11/dist-packages (1.6.2)\n",
            "Requirement already satisfied: pandas in /usr/local/lib/python3.11/dist-packages (2.2.2)\n",
            "Requirement already satisfied: scipy in /usr/local/lib/python3.11/dist-packages (1.13.1)\n",
            "Requirement already satisfied: loguru in /usr/local/lib/python3.11/dist-packages (0.7.3)\n",
            "Requirement already satisfied: contourpy>=1.0.1 in /usr/local/lib/python3.11/dist-packages (from matplotlib==3.7) (1.3.1)\n",
            "Requirement already satisfied: cycler>=0.10 in /usr/local/lib/python3.11/dist-packages (from matplotlib==3.7) (0.12.1)\n",
            "Requirement already satisfied: fonttools>=4.22.0 in /usr/local/lib/python3.11/dist-packages (from matplotlib==3.7) (4.55.3)\n",
            "Requirement already satisfied: kiwisolver>=1.0.1 in /usr/local/lib/python3.11/dist-packages (from matplotlib==3.7) (1.4.8)\n",
            "Requirement already satisfied: numpy>=1.20 in /usr/local/lib/python3.11/dist-packages (from matplotlib==3.7) (1.26.4)\n",
            "Requirement already satisfied: packaging>=20.0 in /usr/local/lib/python3.11/dist-packages (from matplotlib==3.7) (24.2)\n",
            "Requirement already satisfied: pillow>=6.2.0 in /usr/local/lib/python3.11/dist-packages (from matplotlib==3.7) (11.1.0)\n",
            "Requirement already satisfied: pyparsing>=2.3.1 in /usr/local/lib/python3.11/dist-packages (from matplotlib==3.7) (3.2.1)\n",
            "Requirement already satisfied: python-dateutil>=2.7 in /usr/local/lib/python3.11/dist-packages (from matplotlib==3.7) (2.8.2)\n",
            "Requirement already satisfied: webcolors in /usr/local/lib/python3.11/dist-packages (from tikzplotlib) (24.11.1)\n",
            "Requirement already satisfied: cffi in /usr/local/lib/python3.11/dist-packages (from jpeg4py) (1.17.1)\n",
            "Requirement already satisfied: pytz>=2020.1 in /usr/local/lib/python3.11/dist-packages (from pandas) (2024.2)\n",
            "Requirement already satisfied: tzdata>=2022.7 in /usr/local/lib/python3.11/dist-packages (from pandas) (2024.2)\n",
            "Requirement already satisfied: six>=1.5 in /usr/local/lib/python3.11/dist-packages (from python-dateutil>=2.7->matplotlib==3.7) (1.17.0)\n",
            "Requirement already satisfied: pycparser in /usr/local/lib/python3.11/dist-packages (from cffi->jpeg4py) (2.22)\n"
          ]
        }
      ]
    },
    {
      "cell_type": "code",
      "source": [
        "%cd /content/sam2/checkpoints\n",
        "!./download_ckpts.sh\n",
        "%cd .."
      ],
      "metadata": {
        "colab": {
          "base_uri": "https://localhost:8080/"
        },
        "id": "gZwo2y8tQyKU",
        "outputId": "d86f057b-6b6f-4006-a02d-2518ee339438"
      },
      "execution_count": 6,
      "outputs": [
        {
          "output_type": "stream",
          "name": "stdout",
          "text": [
            "/content/sam2/checkpoints\n",
            "Downloading sam2.1_hiera_tiny.pt checkpoint...\n",
            "--2025-01-18 11:57:49--  https://dl.fbaipublicfiles.com/segment_anything_2/092824/sam2.1_hiera_tiny.pt\n",
            "Resolving dl.fbaipublicfiles.com (dl.fbaipublicfiles.com)... 13.226.210.25, 13.226.210.111, 13.226.210.78, ...\n",
            "Connecting to dl.fbaipublicfiles.com (dl.fbaipublicfiles.com)|13.226.210.25|:443... connected.\n",
            "HTTP request sent, awaiting response... 200 OK\n",
            "Length: 156008466 (149M) [application/vnd.snesdev-page-table]\n",
            "Saving to: ‘sam2.1_hiera_tiny.pt’\n",
            "\n",
            "sam2.1_hiera_tiny.p 100%[===================>] 148.78M   174MB/s    in 0.9s    \n",
            "\n",
            "2025-01-18 11:57:50 (174 MB/s) - ‘sam2.1_hiera_tiny.pt’ saved [156008466/156008466]\n",
            "\n",
            "Downloading sam2.1_hiera_small.pt checkpoint...\n",
            "--2025-01-18 11:57:50--  https://dl.fbaipublicfiles.com/segment_anything_2/092824/sam2.1_hiera_small.pt\n",
            "Resolving dl.fbaipublicfiles.com (dl.fbaipublicfiles.com)... 13.226.210.25, 13.226.210.111, 13.226.210.78, ...\n",
            "Connecting to dl.fbaipublicfiles.com (dl.fbaipublicfiles.com)|13.226.210.25|:443... connected.\n",
            "HTTP request sent, awaiting response... 200 OK\n",
            "Length: 184416285 (176M) [application/vnd.snesdev-page-table]\n",
            "Saving to: ‘sam2.1_hiera_small.pt’\n",
            "\n",
            "sam2.1_hiera_small. 100%[===================>] 175.87M  21.0MB/s    in 5.2s    \n",
            "\n",
            "2025-01-18 11:57:55 (33.7 MB/s) - ‘sam2.1_hiera_small.pt’ saved [184416285/184416285]\n",
            "\n",
            "Downloading sam2.1_hiera_base_plus.pt checkpoint...\n",
            "--2025-01-18 11:57:55--  https://dl.fbaipublicfiles.com/segment_anything_2/092824/sam2.1_hiera_base_plus.pt\n",
            "Resolving dl.fbaipublicfiles.com (dl.fbaipublicfiles.com)... 13.226.210.25, 13.226.210.111, 13.226.210.78, ...\n",
            "Connecting to dl.fbaipublicfiles.com (dl.fbaipublicfiles.com)|13.226.210.25|:443... connected.\n",
            "HTTP request sent, awaiting response... 200 OK\n",
            "Length: 323606802 (309M) [application/vnd.snesdev-page-table]\n",
            "Saving to: ‘sam2.1_hiera_base_plus.pt’\n",
            "\n",
            "sam2.1_hiera_base_p 100%[===================>] 308.62M   107MB/s    in 2.9s    \n",
            "\n",
            "2025-01-18 11:57:58 (107 MB/s) - ‘sam2.1_hiera_base_plus.pt’ saved [323606802/323606802]\n",
            "\n",
            "Downloading sam2.1_hiera_large.pt checkpoint...\n",
            "--2025-01-18 11:57:58--  https://dl.fbaipublicfiles.com/segment_anything_2/092824/sam2.1_hiera_large.pt\n",
            "Resolving dl.fbaipublicfiles.com (dl.fbaipublicfiles.com)... 13.226.210.25, 13.226.210.111, 13.226.210.78, ...\n",
            "Connecting to dl.fbaipublicfiles.com (dl.fbaipublicfiles.com)|13.226.210.25|:443... connected.\n",
            "HTTP request sent, awaiting response... 200 OK\n",
            "Length: 898083611 (856M) [application/vnd.snesdev-page-table]\n",
            "Saving to: ‘sam2.1_hiera_large.pt’\n",
            "\n",
            "sam2.1_hiera_large. 100%[===================>] 856.48M   201MB/s    in 4.4s    \n",
            "\n",
            "2025-01-18 11:58:03 (194 MB/s) - ‘sam2.1_hiera_large.pt’ saved [898083611/898083611]\n",
            "\n",
            "All checkpoints are downloaded successfully.\n",
            "/content/sam2\n"
          ]
        }
      ]
    },
    {
      "cell_type": "code",
      "source": [],
      "metadata": {
        "id": "XXehiT9gQ4Nv"
      },
      "execution_count": null,
      "outputs": []
    },
    {
      "cell_type": "code",
      "source": [
        "import cv2\n",
        "import numpy as np\n",
        "\n",
        "# Video settings\n",
        "width, height = 640, 480\n",
        "frame_rate = 30\n",
        "num_frames = 100\n",
        "video_path = '/content/mock_video.mp4'\n",
        "\n",
        "# Create a video writer object\n",
        "fourcc = cv2.VideoWriter_fourcc(*'mp4v')  # Video codec\n",
        "out = cv2.VideoWriter(video_path, fourcc, frame_rate, (width, height))\n",
        "\n",
        "# Define rectangle parameters (start position and size)\n",
        "rect_width, rect_height = 50, 50\n",
        "x, y = 100, 100  # Starting position\n",
        "\n",
        "# Write frames to the video\n",
        "for i in range(num_frames):\n",
        "    # Create a blank frame (black background)\n",
        "    frame = np.zeros((height, width, 3), dtype=np.uint8)\n",
        "\n",
        "    # Move the rectangle (simple motion across the frame)\n",
        "    x += 2  # Move 2 pixels to the right each frame\n",
        "    y += 0  # Keep the vertical position fixed\n",
        "\n",
        "    # Draw the rectangle\n",
        "    frame = cv2.rectangle(frame, (x, y), (x + rect_width, y + rect_height), (0, 255, 0), -1)\n",
        "\n",
        "    # Write the frame to the video\n",
        "    out.write(frame)\n",
        "\n",
        "# Release the video writer object\n",
        "out.release()\n",
        "\n",
        "print(f\"Mock video saved to {video_path}\")\n"
      ],
      "metadata": {
        "colab": {
          "base_uri": "https://localhost:8080/"
        },
        "id": "hZJ8Tt8xQ4W2",
        "outputId": "ef474a68-07af-4a78-b4c5-a1092eec5f6d"
      },
      "execution_count": 7,
      "outputs": [
        {
          "output_type": "stream",
          "name": "stdout",
          "text": [
            "Mock video saved to /content/mock_video.mp4\n"
          ]
        }
      ]
    },
    {
      "cell_type": "code",
      "source": [
        "# Bounding box for the first frame (the rectangle's position at x=100, y=100)\n",
        "x1, y1 = 100, 100\n",
        "x2, y2 = x1 + rect_width, y1 + rect_height\n",
        "\n",
        "bbox_file_path = '/content/bbox.txt'\n",
        "\n",
        "# Write the bounding box coordinates to a txt file\n",
        "with open(bbox_file_path, 'w') as f:\n",
        "    f.write(f\"{x1},{y1},{x2},{y2}\")\n",
        "\n",
        "print(f\"Bounding box file saved to {bbox_file_path}\")\n"
      ],
      "metadata": {
        "colab": {
          "base_uri": "https://localhost:8080/"
        },
        "id": "WRtny0ATQ59P",
        "outputId": "276726ad-ab49-4200-f93f-1d417a77872c"
      },
      "execution_count": 8,
      "outputs": [
        {
          "output_type": "stream",
          "name": "stdout",
          "text": [
            "Bounding box file saved to /content/bbox.txt\n"
          ]
        }
      ]
    },
    {
      "cell_type": "code",
      "source": [
        "!python /content/samurai/scripts/demo.py --video_path /content/mock_video.mp4 --txt_path /content/bbox.txt"
      ],
      "metadata": {
        "colab": {
          "base_uri": "https://localhost:8080/"
        },
        "id": "CdznpT5SSFr8",
        "outputId": "19c0e7d1-3c17-498e-fe20-ccf0af781aa3"
      },
      "execution_count": 14,
      "outputs": [
        {
          "output_type": "stream",
          "name": "stdout",
          "text": [
            "Traceback (most recent call last):\n",
            "  File \"/content/samurai/scripts/demo.py\", line 122, in <module>\n",
            "    main(args)\n",
            "  File \"/content/samurai/scripts/demo.py\", line 44, in main\n",
            "    predictor = build_sam2_video_predictor(model_cfg, args.model_path, device=\"cuda:0\")\n",
            "                ^^^^^^^^^^^^^^^^^^^^^^^^^^^^^^^^^^^^^^^^^^^^^^^^^^^^^^^^^^^^^^^^^^^^^^^\n",
            "  File \"/content/sam2/sam2/build_sam.py\", line 134, in build_sam2_video_predictor\n",
            "    cfg = compose(config_name=config_file, overrides=hydra_overrides)\n",
            "          ^^^^^^^^^^^^^^^^^^^^^^^^^^^^^^^^^^^^^^^^^^^^^^^^^^^^^^^^^^^\n",
            "  File \"/usr/local/lib/python3.11/dist-packages/hydra/compose.py\", line 38, in compose\n",
            "    cfg = gh.hydra.compose_config(\n",
            "          ^^^^^^^^^^^^^^^^^^^^^^^^\n",
            "  File \"/usr/local/lib/python3.11/dist-packages/hydra/_internal/hydra.py\", line 594, in compose_config\n",
            "    cfg = self.config_loader.load_configuration(\n",
            "          ^^^^^^^^^^^^^^^^^^^^^^^^^^^^^^^^^^^^^^\n",
            "  File \"/usr/local/lib/python3.11/dist-packages/hydra/_internal/config_loader_impl.py\", line 142, in load_configuration\n",
            "    return self._load_configuration_impl(\n",
            "           ^^^^^^^^^^^^^^^^^^^^^^^^^^^^^^\n",
            "  File \"/usr/local/lib/python3.11/dist-packages/hydra/_internal/config_loader_impl.py\", line 253, in _load_configuration_impl\n",
            "    defaults_list = create_defaults_list(\n",
            "                    ^^^^^^^^^^^^^^^^^^^^^\n",
            "  File \"/usr/local/lib/python3.11/dist-packages/hydra/_internal/defaults_list.py\", line 745, in create_defaults_list\n",
            "    defaults, tree = _create_defaults_list(\n",
            "                     ^^^^^^^^^^^^^^^^^^^^^^\n",
            "  File \"/usr/local/lib/python3.11/dist-packages/hydra/_internal/defaults_list.py\", line 715, in _create_defaults_list\n",
            "    defaults_tree = _create_defaults_tree(\n",
            "                    ^^^^^^^^^^^^^^^^^^^^^^\n",
            "  File \"/usr/local/lib/python3.11/dist-packages/hydra/_internal/defaults_list.py\", line 356, in _create_defaults_tree\n",
            "    ret = _create_defaults_tree_impl(\n",
            "          ^^^^^^^^^^^^^^^^^^^^^^^^^^^\n",
            "  File \"/usr/local/lib/python3.11/dist-packages/hydra/_internal/defaults_list.py\", line 457, in _create_defaults_tree_impl\n",
            "    return _expand_virtual_root(repo, root, overrides, skip_missing)\n",
            "           ^^^^^^^^^^^^^^^^^^^^^^^^^^^^^^^^^^^^^^^^^^^^^^^^^^^^^^^^^\n",
            "  File \"/usr/local/lib/python3.11/dist-packages/hydra/_internal/defaults_list.py\", line 280, in _expand_virtual_root\n",
            "    subtree = _create_defaults_tree_impl(\n",
            "              ^^^^^^^^^^^^^^^^^^^^^^^^^^^\n",
            "  File \"/usr/local/lib/python3.11/dist-packages/hydra/_internal/defaults_list.py\", line 464, in _create_defaults_tree_impl\n",
            "    config_not_found_error(repo=repo, tree=root)\n",
            "  File \"/usr/local/lib/python3.11/dist-packages/hydra/_internal/defaults_list.py\", line 799, in config_not_found_error\n",
            "    raise MissingConfigException(\n",
            "hydra.errors.MissingConfigException: Cannot find primary config 'content/samurai/sam2/sam2/configs/sam2.1/sam2.1_hiera_b+.yaml'. Check that it's in your config search path.\n",
            "\n",
            "Config search path:\n",
            "\tprovider=hydra, path=pkg://hydra.conf\n",
            "\tprovider=main, path=pkg://sam2\n",
            "\tprovider=schema, path=structured://\n"
          ]
        }
      ]
    },
    {
      "cell_type": "code",
      "source": [
        "from PIL import Image, ImageDraw\n",
        "import os\n",
        "\n",
        "# Create a directory for images if it doesn't exist\n",
        "output_folder = \"sample_frames\"\n",
        "os.makedirs(output_folder, exist_ok=True)\n",
        "\n",
        "# Generate a few sample JPG images with some simple shapes\n",
        "for i in range(5):\n",
        "    # Create a blank white image\n",
        "    img = Image.new('RGB', (640, 480), color = (255, 255, 255))\n",
        "    draw = ImageDraw.Draw(img)\n",
        "\n",
        "    # Draw some shapes (e.g., rectangles) to simulate objects\n",
        "    draw.rectangle([50, 50, 200, 200], outline=\"blue\", width=3)\n",
        "    draw.rectangle([250, 100, 400, 300], outline=\"red\", width=3)\n",
        "    draw.rectangle([450, 150, 600, 350], outline=\"green\", width=3)\n",
        "\n",
        "    # Save the image as JPG\n",
        "    img.save(os.path.join(output_folder, f\"frame_{i:04d}.jpg\"))\n",
        "\n",
        "print(f\"Generated sample frames in {output_folder}\")\n"
      ],
      "metadata": {
        "colab": {
          "base_uri": "https://localhost:8080/"
        },
        "id": "8xhmcOhGTNYZ",
        "outputId": "ff3fd4bb-b8e6-43ac-d65c-ff5e348c63d6"
      },
      "execution_count": 15,
      "outputs": [
        {
          "output_type": "stream",
          "name": "stdout",
          "text": [
            "Generated sample frames in sample_frames\n"
          ]
        }
      ]
    },
    {
      "cell_type": "code",
      "source": [
        "# Create a simple bbox file with annotations for each frame\n",
        "bbox_file_path = \"sample_bbox.txt\"\n",
        "with open(bbox_file_path, 'w') as f:\n",
        "    for i in range(5):\n",
        "        f.write(f\"frame_{i:04d}.jpg 1 50 50 200 200\\n\")\n",
        "        f.write(f\"frame_{i:04d}.jpg 2 250 100 400 300\\n\")\n",
        "        f.write(f\"frame_{i:04d}.jpg 3 450 150 600 350\\n\")\n",
        "\n",
        "print(f\"Bounding box annotations saved to {bbox_file_path}\")\n"
      ],
      "metadata": {
        "colab": {
          "base_uri": "https://localhost:8080/"
        },
        "id": "_4W6wsIUTQDf",
        "outputId": "036a8ceb-43a9-4f91-b11f-136ea2fa0b69"
      },
      "execution_count": 16,
      "outputs": [
        {
          "output_type": "stream",
          "name": "stdout",
          "text": [
            "Bounding box annotations saved to sample_bbox.txt\n"
          ]
        }
      ]
    },
    {
      "cell_type": "code",
      "source": [
        "!pwd"
      ],
      "metadata": {
        "colab": {
          "base_uri": "https://localhost:8080/"
        },
        "id": "l6kGPiJiTUTs",
        "outputId": "754cf1c2-a173-45d6-f9a6-2dea8b448b9f"
      },
      "execution_count": 17,
      "outputs": [
        {
          "output_type": "stream",
          "name": "stdout",
          "text": [
            "/content/sam2\n"
          ]
        }
      ]
    },
    {
      "cell_type": "code",
      "source": [],
      "metadata": {
        "id": "Up65dHzSTVW_"
      },
      "execution_count": null,
      "outputs": []
    },
    {
      "cell_type": "code",
      "source": [
        "# Only JPG images are supported\n",
        "!python /content/samurai/scripts/demo.py --video_path /content/sam2/sample_frames --txt_path /content/sam2/sample_bbox.txt"
      ],
      "metadata": {
        "colab": {
          "base_uri": "https://localhost:8080/"
        },
        "id": "oEx_y0k3TffV",
        "outputId": "14b1ecd7-6ff1-4dc3-931e-0e0d2c780edb"
      },
      "execution_count": 18,
      "outputs": [
        {
          "output_type": "stream",
          "name": "stdout",
          "text": [
            "Traceback (most recent call last):\n",
            "  File \"/content/samurai/scripts/demo.py\", line 122, in <module>\n",
            "    main(args)\n",
            "  File \"/content/samurai/scripts/demo.py\", line 44, in main\n",
            "    predictor = build_sam2_video_predictor(model_cfg, args.model_path, device=\"cuda:0\")\n",
            "                ^^^^^^^^^^^^^^^^^^^^^^^^^^^^^^^^^^^^^^^^^^^^^^^^^^^^^^^^^^^^^^^^^^^^^^^\n",
            "  File \"/content/sam2/sam2/build_sam.py\", line 134, in build_sam2_video_predictor\n",
            "    cfg = compose(config_name=config_file, overrides=hydra_overrides)\n",
            "          ^^^^^^^^^^^^^^^^^^^^^^^^^^^^^^^^^^^^^^^^^^^^^^^^^^^^^^^^^^^\n",
            "  File \"/usr/local/lib/python3.11/dist-packages/hydra/compose.py\", line 38, in compose\n",
            "    cfg = gh.hydra.compose_config(\n",
            "          ^^^^^^^^^^^^^^^^^^^^^^^^\n",
            "  File \"/usr/local/lib/python3.11/dist-packages/hydra/_internal/hydra.py\", line 594, in compose_config\n",
            "    cfg = self.config_loader.load_configuration(\n",
            "          ^^^^^^^^^^^^^^^^^^^^^^^^^^^^^^^^^^^^^^\n",
            "  File \"/usr/local/lib/python3.11/dist-packages/hydra/_internal/config_loader_impl.py\", line 142, in load_configuration\n",
            "    return self._load_configuration_impl(\n",
            "           ^^^^^^^^^^^^^^^^^^^^^^^^^^^^^^\n",
            "  File \"/usr/local/lib/python3.11/dist-packages/hydra/_internal/config_loader_impl.py\", line 253, in _load_configuration_impl\n",
            "    defaults_list = create_defaults_list(\n",
            "                    ^^^^^^^^^^^^^^^^^^^^^\n",
            "  File \"/usr/local/lib/python3.11/dist-packages/hydra/_internal/defaults_list.py\", line 745, in create_defaults_list\n",
            "    defaults, tree = _create_defaults_list(\n",
            "                     ^^^^^^^^^^^^^^^^^^^^^^\n",
            "  File \"/usr/local/lib/python3.11/dist-packages/hydra/_internal/defaults_list.py\", line 715, in _create_defaults_list\n",
            "    defaults_tree = _create_defaults_tree(\n",
            "                    ^^^^^^^^^^^^^^^^^^^^^^\n",
            "  File \"/usr/local/lib/python3.11/dist-packages/hydra/_internal/defaults_list.py\", line 356, in _create_defaults_tree\n",
            "    ret = _create_defaults_tree_impl(\n",
            "          ^^^^^^^^^^^^^^^^^^^^^^^^^^^\n",
            "  File \"/usr/local/lib/python3.11/dist-packages/hydra/_internal/defaults_list.py\", line 457, in _create_defaults_tree_impl\n",
            "    return _expand_virtual_root(repo, root, overrides, skip_missing)\n",
            "           ^^^^^^^^^^^^^^^^^^^^^^^^^^^^^^^^^^^^^^^^^^^^^^^^^^^^^^^^^\n",
            "  File \"/usr/local/lib/python3.11/dist-packages/hydra/_internal/defaults_list.py\", line 280, in _expand_virtual_root\n",
            "    subtree = _create_defaults_tree_impl(\n",
            "              ^^^^^^^^^^^^^^^^^^^^^^^^^^^\n",
            "  File \"/usr/local/lib/python3.11/dist-packages/hydra/_internal/defaults_list.py\", line 464, in _create_defaults_tree_impl\n",
            "    config_not_found_error(repo=repo, tree=root)\n",
            "  File \"/usr/local/lib/python3.11/dist-packages/hydra/_internal/defaults_list.py\", line 799, in config_not_found_error\n",
            "    raise MissingConfigException(\n",
            "hydra.errors.MissingConfigException: Cannot find primary config 'content/samurai/sam2/sam2/configs/sam2.1/sam2.1_hiera_b+.yaml'. Check that it's in your config search path.\n",
            "\n",
            "Config search path:\n",
            "\tprovider=hydra, path=pkg://hydra.conf\n",
            "\tprovider=main, path=pkg://sam2\n",
            "\tprovider=schema, path=structured://\n"
          ]
        }
      ]
    }
  ]
}